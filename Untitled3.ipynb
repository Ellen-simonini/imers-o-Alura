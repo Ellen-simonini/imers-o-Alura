{
  "nbformat": 4,
  "nbformat_minor": 0,
  "metadata": {
    "colab": {
      "provenance": [],
      "authorship_tag": "ABX9TyPl5OEURerLi+JFFha06LJg",
      "include_colab_link": true
    },
    "kernelspec": {
      "name": "python3",
      "display_name": "Python 3"
    },
    "language_info": {
      "name": "python"
    }
  },
  "cells": [
    {
      "cell_type": "markdown",
      "metadata": {
        "id": "view-in-github",
        "colab_type": "text"
      },
      "source": [
        "<a href=\"https://colab.research.google.com/github/Ellen-simonini/imers-o-Alura/blob/main/Untitled3.ipynb\" target=\"_parent\"><img src=\"https://colab.research.google.com/assets/colab-badge.svg\" alt=\"Open In Colab\"/></a>"
      ]
    },
    {
      "cell_type": "code",
      "execution_count": 1,
      "metadata": {
        "colab": {
          "base_uri": "https://localhost:8080/"
        },
        "id": "5YzWuzA4GtyW",
        "outputId": "8a1f251a-b85a-49ee-abd4-1191de3b5bcc"
      },
      "outputs": [
        {
          "output_type": "stream",
          "name": "stdout",
          "text": [
            "Bem-vindo ao jogo Pedra, Papel, Tesoura, Lagarto, Spock!\n",
            "Escolha uma das opções: Pedra, Papel, Tesoura, Lagarto, Spock\n",
            "Sua escolha: Papel\n",
            "O computador escolheu: Pedra\n",
            "Resultado: Você ganhou\n"
          ]
        }
      ],
      "source": [
        "import random\n",
        "\n",
        "def obter_escolha_computador():\n",
        "    escolhas = [\"Pedra\", \"Papel\", \"Tesoura\", \"Lagarto\", \"Spock\"]\n",
        "    return random.choice(escolhas)\n",
        "\n",
        "def determinar_vencedor(escolha_usuario, escolha_computador):\n",
        "    regras = {\n",
        "        \"Pedra\": [\"Tesoura\", \"Lagarto\"],\n",
        "        \"Papel\": [\"Pedra\", \"Spock\"],\n",
        "        \"Tesoura\": [\"Papel\", \"Lagarto\"],\n",
        "        \"Lagarto\": [\"Spock\", \"Papel\"],\n",
        "        \"Spock\": [\"Tesoura\", \"Pedra\"]\n",
        "    }\n",
        "\n",
        "    if escolha_usuario == escolha_computador:\n",
        "        return \"Empate\"\n",
        "    elif escolha_computador in regras[escolha_usuario]:\n",
        "        return \"Você ganhou\"\n",
        "    else:\n",
        "        return \"Computador ganhou\"\n",
        "\n",
        "def main():\n",
        "    print(\"Bem-vindo ao jogo Pedra, Papel, Tesoura, Lagarto, Spock!\")\n",
        "    print(\"Escolha uma das opções: Pedra, Papel, Tesoura, Lagarto, Spock\")\n",
        "    escolha_usuario = input(\"Sua escolha: \").capitalize()\n",
        "\n",
        "    while escolha_usuario not in [\"Pedra\", \"Papel\", \"Tesoura\", \"Lagarto\", \"Spock\"]:\n",
        "        print(\"Escolha inválida! Tente novamente.\")\n",
        "        escolha_usuario = input(\"Sua escolha: \").capitalize()\n",
        "\n",
        "    escolha_computador = obter_escolha_computador()\n",
        "    print(f\"O computador escolheu: {escolha_computador}\")\n",
        "\n",
        "    resultado = determinar_vencedor(escolha_usuario, escolha_computador)\n",
        "    print(f\"Resultado: {resultado}\")\n",
        "\n",
        "if __name__ == \"__main__\":\n",
        "    main()"
      ]
    }
  ]
}