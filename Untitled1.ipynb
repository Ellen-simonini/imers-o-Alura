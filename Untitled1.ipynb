{
  "nbformat": 4,
  "nbformat_minor": 0,
  "metadata": {
    "colab": {
      "provenance": [],
      "authorship_tag": "ABX9TyN9Wg1Zjpg/66DsQWxaaydj",
      "include_colab_link": true
    },
    "kernelspec": {
      "name": "python3",
      "display_name": "Python 3"
    },
    "language_info": {
      "name": "python"
    }
  },
  "cells": [
    {
      "cell_type": "markdown",
      "metadata": {
        "id": "view-in-github",
        "colab_type": "text"
      },
      "source": [
        "<a href=\"https://colab.research.google.com/github/Ellen-simonini/imers-o-Alura/blob/main/Untitled1.ipynb\" target=\"_parent\"><img src=\"https://colab.research.google.com/assets/colab-badge.svg\" alt=\"Open In Colab\"/></a>"
      ]
    },
    {
      "cell_type": "code",
      "execution_count": null,
      "metadata": {
        "id": "CgkOGyp3BEQu"
      },
      "outputs": [],
      "source": []
    },
    {
      "cell_type": "code",
      "source": [
        "def verifica_palindromo(palavra):\n",
        "    # Remove espaços e transforma a palavra para minúsculas\n",
        "    palavra = palavra.replace(\" \", \"\").lower()\n",
        "\n",
        "    # Verifica se a palavra é igual ao seu reverso\n",
        "    return palavra == palavra[::-1]\n",
        "\n",
        "# Exemplo de uso\n",
        "print(verifica_palindromo(\"radar\"))  # Deve retornar True\n",
        "print(verifica_palindromo(\"python\"))  # Deve retornar False\n"
      ],
      "metadata": {
        "colab": {
          "base_uri": "https://localhost:8080/"
        },
        "id": "66mTiGfyBJQa",
        "outputId": "2e7bd1a4-0766-4fc1-dd14-007bb01e27f4"
      },
      "execution_count": 1,
      "outputs": [
        {
          "output_type": "stream",
          "name": "stdout",
          "text": [
            "True\n",
            "False\n"
          ]
        }
      ]
    }
  ]
}