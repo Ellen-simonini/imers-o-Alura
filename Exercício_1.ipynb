{
  "cells": [
    {
      "cell_type": "markdown",
      "metadata": {
        "id": "view-in-github",
        "colab_type": "text"
      },
      "source": [
        "<a href=\"https://colab.research.google.com/github/Ellen-simonini/imers-o-Alura/blob/main/Exerc%C3%ADcio_1.ipynb\" target=\"_parent\"><img src=\"https://colab.research.google.com/assets/colab-badge.svg\" alt=\"Open In Colab\"/></a>"
      ]
    },
    {
      "cell_type": "code",
      "execution_count": null,
      "metadata": {
        "id": "YUUbgPAw7hkz",
        "colab": {
          "base_uri": "https://localhost:8080/"
        },
        "outputId": "c704daf7-8264-4ce7-e641-3fc7efa89415"
      },
      "outputs": [
        {
          "output_type": "stream",
          "name": "stdout",
          "text": [
            "Password: Abc123! -> Strong: False\n",
            "Password: Abcdef1! -> Strong: True\n",
            "Password: abcdefgh -> Strong: False\n",
            "Password: ABCDEFGH -> Strong: False\n",
            "Password: 12345678 -> Strong: False\n",
            "Password: Abcdefgh -> Strong: False\n",
            "Password: Abcdef1! -> Strong: True\n"
          ]
        }
      ],
      "source": [
        "import string\n",
        "\n",
        "def is_strong_password(password: str) -> bool:\n",
        "    # Dicionários contendo os tipos de caracteres permitidos\n",
        "    char_types = {\n",
        "        \"uppercase\": set(string.ascii_uppercase),\n",
        "        \"lowercase\": set(string.ascii_lowercase),\n",
        "        \"digits\": set(string.digits),\n",
        "        \"special\": set(string.punctuation)\n",
        "    }\n",
        "\n",
        "    # Verificando os requisitos de comprimento e tipos de caracteres\n",
        "    if len(password) < 8:\n",
        "        return False\n",
        "\n",
        "    has_uppercase = any(char in char_types[\"uppercase\"] for char in password)\n",
        "    has_lowercase = any(char in char_types[\"lowercase\"] for char in password)\n",
        "    has_digit = any(char in char_types[\"digits\"] for char in password)\n",
        "    has_special = any(char in char_types[\"special\"] for char in password)\n",
        "\n",
        "    return has_uppercase and has_lowercase and has_digit and has_special\n",
        "\n",
        "# Testes\n",
        "if __name__ == \"__main__\":\n",
        "    test_passwords = [\n",
        "        \"Abc123!\",  # False, menos de 8 caracteres\n",
        "        \"Abcdef1!\",  # True\n",
        "        \"abcdefgh\",  # False, sem maiúsculas, números, especiais\n",
        "        \"ABCDEFGH\",  # False, sem minúsculas, números, especiais\n",
        "        \"12345678\",  # False, sem letras e especiais\n",
        "        \"Abcdefgh\",  # False, sem números e especiais\n",
        "        \"Abcdef1!\",  # True\n",
        "    ]\n",
        "\n",
        "    for pwd in test_passwords:\n",
        "        print(f\"Password: {pwd} -> Strong: {is_strong_password(pwd)}\")"
      ]
    }
  ],
  "metadata": {
    "colab": {
      "provenance": [],
      "include_colab_link": true
    },
    "kernelspec": {
      "display_name": "Python 3",
      "language": "python",
      "name": "python3"
    },
    "language_info": {
      "codemirror_mode": {
        "name": "ipython",
        "version": 3
      },
      "file_extension": ".py",
      "mimetype": "text/x-python",
      "name": "python",
      "nbconvert_exporter": "python",
      "pygments_lexer": "ipython3",
      "version": "3.7.6"
    }
  },
  "nbformat": 4,
  "nbformat_minor": 0
}