{
  "nbformat": 4,
  "nbformat_minor": 0,
  "metadata": {
    "colab": {
      "provenance": [],
      "authorship_tag": "ABX9TyPjdMXd01WFaJEGPdC1l4WR",
      "include_colab_link": true
    },
    "kernelspec": {
      "name": "python3",
      "display_name": "Python 3"
    },
    "language_info": {
      "name": "python"
    }
  },
  "cells": [
    {
      "cell_type": "markdown",
      "metadata": {
        "id": "view-in-github",
        "colab_type": "text"
      },
      "source": [
        "<a href=\"https://colab.research.google.com/github/Ellen-simonini/imers-o-Alura/blob/main/alunos.ipynb\" target=\"_parent\"><img src=\"https://colab.research.google.com/assets/colab-badge.svg\" alt=\"Open In Colab\"/></a>"
      ]
    },
    {
      "cell_type": "code",
      "execution_count": null,
      "metadata": {
        "colab": {
          "base_uri": "https://localhost:8080/"
        },
        "id": "RKlRCQmb7TqJ",
        "outputId": "31f59244-9143-4b4d-d8f7-e3e5c8c97709"
      },
      "outputs": [
        {
          "output_type": "stream",
          "name": "stdout",
          "text": [
            "Aluno 'Alice' adicionado com sucesso!\n",
            "Aluno 'Bob' adicionado com sucesso!\n",
            "Aluno 'Carlos' adicionado com sucesso!\n",
            "Lista de alunos:\n",
            "- Alice\n",
            "- Bob\n",
            "- Carlos\n",
            "Notas adicionadas para 'Alice': AV1 = 8.5, AV2 = 9.0\n",
            "Notas adicionadas para 'Bob': AV1 = 7.0, AV2 = 6.5\n",
            "Notas adicionadas para 'Carlos': AV1 = 9.5, AV2 = 8.0\n",
            "Lista de médias dos alunos:\n",
            "Alice: Média = 8.75\n",
            "Bob: Média = 6.75\n",
            "Carlos: Média = 8.75\n",
            "Média geral da turma: 8.08\n"
          ]
        }
      ],
      "source": [
        "class Alunos:\n",
        "    def __init__(self):\n",
        "        \"\"\"Inicializa a lista de alunos\"\"\"\n",
        "        self.lista_alunos = {}\n",
        "\n",
        "    def adicionar_aluno(self, nome):\n",
        "        \"\"\"Adiciona um aluno à lista\"\"\"\n",
        "        if nome not in self.lista_alunos:\n",
        "            self.lista_alunos[nome] = {\"AV1\": None, \"AV2\": None}\n",
        "            print(f\"Aluno '{nome}' adicionado com sucesso!\")\n",
        "        else:\n",
        "            print(f\"Aluno '{nome}' já está na lista.\")\n",
        "\n",
        "    def gerar_lista_alunos(self):\n",
        "        \"\"\"Gera uma lista com todos os alunos cadastrados\"\"\"\n",
        "        if not self.lista_alunos:\n",
        "            print(\"Nenhum aluno cadastrado ainda.\")\n",
        "        else:\n",
        "            print(\"Lista de alunos:\")\n",
        "            for aluno in self.lista_alunos:\n",
        "                print(f\"- {aluno}\")\n",
        "\n",
        "    def adicionar_notas(self, nome, av1, av2):\n",
        "        \"\"\"Adiciona as notas AV1 e AV2 para um aluno\"\"\"\n",
        "        if nome in self.lista_alunos:\n",
        "            self.lista_alunos[nome][\"AV1\"] = av1\n",
        "            self.lista_alunos[nome][\"AV2\"] = av2\n",
        "            print(f\"Notas adicionadas para '{nome}': AV1 = {av1}, AV2 = {av2}\")\n",
        "        else:\n",
        "            print(f\"Aluno '{nome}' não encontrado.\")\n",
        "\n",
        "    def gerar_lista_medias(self):\n",
        "        \"\"\"Gera uma lista com as médias dos alunos\"\"\"\n",
        "        if not self.lista_alunos:\n",
        "            print(\"Nenhum aluno cadastrado ainda.\")\n",
        "        else:\n",
        "            print(\"Lista de médias dos alunos:\")\n",
        "            for aluno, notas in self.lista_alunos.items():\n",
        "                if notas[\"AV1\"] is not None and notas[\"AV2\"] is not None:\n",
        "                    media = (notas[\"AV1\"] + notas[\"AV2\"]) / 2\n",
        "                    print(f\"{aluno}: Média = {media:.2f}\")\n",
        "                else:\n",
        "                    print(f\"{aluno}: Notas incompletas.\")\n",
        "\n",
        "    def exibir_media_turma(self):\n",
        "        \"\"\"Exibe a média geral da turma\"\"\"\n",
        "        total_notas = 0\n",
        "        quantidade = 0\n",
        "        for notas in self.lista_alunos.values():\n",
        "            if notas[\"AV1\"] is not None and notas[\"AV2\"] is not None:\n",
        "                total_notas += (notas[\"AV1\"] + notas[\"AV2\"]) / 2\n",
        "                quantidade += 1\n",
        "        if quantidade > 0:\n",
        "            media_turma = total_notas / quantidade\n",
        "            print(f\"Média geral da turma: {media_turma:.2f}\")\n",
        "        else:\n",
        "            print(\"Ainda não há notas suficientes para calcular a média da turma.\")\n",
        "\n",
        "# Exemplo de uso\n",
        "if __name__ == \"__main__\":\n",
        "    turma = Alunos()\n",
        "\n",
        "    turma.adicionar_aluno(\"Alice\")\n",
        "    turma.adicionar_aluno(\"Bob\")\n",
        "    turma.adicionar_aluno(\"Carlos\")\n",
        "\n",
        "    turma.gerar_lista_alunos()\n",
        "\n",
        "    turma.adicionar_notas(\"Alice\", 8.5, 9.0)\n",
        "    turma.adicionar_notas(\"Bob\", 7.0, 6.5)\n",
        "    turma.adicionar_notas(\"Carlos\", 9.5, 8.0)\n",
        "\n",
        "    turma.gerar_lista_medias()\n",
        "    turma.exibir_media_turma()\n"
      ]
    }
  ]
}